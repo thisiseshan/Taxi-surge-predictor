{
  "nbformat": 4,
  "nbformat_minor": 0,
  "metadata": {
    "colab": {
      "name": "locale.ipynb",
      "version": "0.3.2",
      "provenance": [],
      "collapsed_sections": [],
      "toc_visible": true
    },
    "kernelspec": {
      "name": "python3",
      "display_name": "Python 3"
    }
  },
  "cells": [
    {
      "cell_type": "markdown",
      "metadata": {
        "id": "4fqLAuRPfxKB",
        "colab_type": "text"
      },
      "source": [
        "##Imports"
      ]
    },
    {
      "cell_type": "code",
      "metadata": {
        "id": "haoSLxWdRpM9",
        "colab_type": "code",
        "colab": {}
      },
      "source": [
        "%matplotlib inline\n",
        "%load_ext autoreload\n",
        "%autoreload 2\n",
        "%config InlineBackend.figure_format = 'retina'\n",
        "\n",
        "import numpy as np\n",
        "import pandas as pd\n",
        "import matplotlib.pyplot as plt\n",
        "from sklearn.model_selection import train_test_split\n",
        "# from sklearn.cross_validation import train_test_split\n",
        "from sklearn.tree import DecisionTreeClassifier\n",
        "from sklearn.metrics import accuracy_score\n",
        "from sklearn import tree\n"
      ],
      "execution_count": 0,
      "outputs": []
    },
    {
      "cell_type": "code",
      "metadata": {
        "id": "M9KVIb44G2rI",
        "colab_type": "code",
        "colab": {}
      },
      "source": [
        "# !pip install -U scikit-learn\n"
      ],
      "execution_count": 0,
      "outputs": []
    },
    {
      "cell_type": "code",
      "metadata": {
        "id": "ByJMoalqmSRL",
        "colab_type": "code",
        "colab": {
          "base_uri": "https://localhost:8080/",
          "height": 153
        },
        "outputId": "6d7010a5-4e63-4434-e93b-457d980180fc"
      },
      "source": [
        "!unzip data.zip"
      ],
      "execution_count": 2,
      "outputs": [
        {
          "output_type": "stream",
          "text": [
            "Archive:  data.zip\n",
            "   creating: data/\n",
            "  inflating: data/.DS_Store          \n",
            "   creating: __MACOSX/\n",
            "   creating: __MACOSX/data/\n",
            "  inflating: __MACOSX/data/._.DS_Store  \n",
            "  inflating: data/final.csv          \n",
            "  inflating: __MACOSX/data/._final.csv  \n"
          ],
          "name": "stdout"
        }
      ]
    },
    {
      "cell_type": "code",
      "metadata": {
        "id": "UqVDCi-ZmDIU",
        "colab_type": "code",
        "colab": {}
      },
      "source": [
        "data_path = 'data/final.csv'"
      ],
      "execution_count": 0,
      "outputs": []
    },
    {
      "cell_type": "code",
      "metadata": {
        "id": "0Cr306sLmWXL",
        "colab_type": "code",
        "colab": {
          "base_uri": "https://localhost:8080/",
          "height": 204
        },
        "outputId": "049485de-4642-41f6-c363-ec8c0d8324d9"
      },
      "source": [
        "rides= pd.read_csv(data_path)\n",
        "rides.head()"
      ],
      "execution_count": 4,
      "outputs": [
        {
          "output_type": "execute_result",
          "data": {
            "text/html": [
              "<div>\n",
              "<style scoped>\n",
              "    .dataframe tbody tr th:only-of-type {\n",
              "        vertical-align: middle;\n",
              "    }\n",
              "\n",
              "    .dataframe tbody tr th {\n",
              "        vertical-align: top;\n",
              "    }\n",
              "\n",
              "    .dataframe thead th {\n",
              "        text-align: right;\n",
              "    }\n",
              "</style>\n",
              "<table border=\"1\" class=\"dataframe\">\n",
              "  <thead>\n",
              "    <tr style=\"text-align: right;\">\n",
              "      <th></th>\n",
              "      <th>0</th>\n",
              "      <th>0.1</th>\n",
              "      <th>0.2</th>\n",
              "      <th>13</th>\n",
              "    </tr>\n",
              "  </thead>\n",
              "  <tbody>\n",
              "    <tr>\n",
              "      <th>0</th>\n",
              "      <td>0</td>\n",
              "      <td>0</td>\n",
              "      <td>0</td>\n",
              "      <td>13</td>\n",
              "    </tr>\n",
              "    <tr>\n",
              "      <th>1</th>\n",
              "      <td>0</td>\n",
              "      <td>0</td>\n",
              "      <td>1</td>\n",
              "      <td>56</td>\n",
              "    </tr>\n",
              "    <tr>\n",
              "      <th>2</th>\n",
              "      <td>0</td>\n",
              "      <td>0</td>\n",
              "      <td>2</td>\n",
              "      <td>72</td>\n",
              "    </tr>\n",
              "    <tr>\n",
              "      <th>3</th>\n",
              "      <td>0</td>\n",
              "      <td>0</td>\n",
              "      <td>3</td>\n",
              "      <td>59</td>\n",
              "    </tr>\n",
              "    <tr>\n",
              "      <th>4</th>\n",
              "      <td>0</td>\n",
              "      <td>0</td>\n",
              "      <td>4</td>\n",
              "      <td>43</td>\n",
              "    </tr>\n",
              "  </tbody>\n",
              "</table>\n",
              "</div>"
            ],
            "text/plain": [
              "   0  0.1  0.2  13\n",
              "0  0    0    0  13\n",
              "1  0    0    1  56\n",
              "2  0    0    2  72\n",
              "3  0    0    3  59\n",
              "4  0    0    4  43"
            ]
          },
          "metadata": {
            "tags": []
          },
          "execution_count": 4
        }
      ]
    },
    {
      "cell_type": "code",
      "metadata": {
        "id": "7coWqKudmza5",
        "colab_type": "code",
        "colab": {
          "base_uri": "https://localhost:8080/",
          "height": 1000
        },
        "outputId": "f1ad0a8c-77eb-48ed-8e67-ee4df4fd6644"
      },
      "source": [
        "rides"
      ],
      "execution_count": 5,
      "outputs": [
        {
          "output_type": "execute_result",
          "data": {
            "text/html": [
              "<div>\n",
              "<style scoped>\n",
              "    .dataframe tbody tr th:only-of-type {\n",
              "        vertical-align: middle;\n",
              "    }\n",
              "\n",
              "    .dataframe tbody tr th {\n",
              "        vertical-align: top;\n",
              "    }\n",
              "\n",
              "    .dataframe thead th {\n",
              "        text-align: right;\n",
              "    }\n",
              "</style>\n",
              "<table border=\"1\" class=\"dataframe\">\n",
              "  <thead>\n",
              "    <tr style=\"text-align: right;\">\n",
              "      <th></th>\n",
              "      <th>0</th>\n",
              "      <th>0.1</th>\n",
              "      <th>0.2</th>\n",
              "      <th>13</th>\n",
              "    </tr>\n",
              "  </thead>\n",
              "  <tbody>\n",
              "    <tr>\n",
              "      <th>0</th>\n",
              "      <td>0</td>\n",
              "      <td>0</td>\n",
              "      <td>0</td>\n",
              "      <td>13</td>\n",
              "    </tr>\n",
              "    <tr>\n",
              "      <th>1</th>\n",
              "      <td>0</td>\n",
              "      <td>0</td>\n",
              "      <td>1</td>\n",
              "      <td>56</td>\n",
              "    </tr>\n",
              "    <tr>\n",
              "      <th>2</th>\n",
              "      <td>0</td>\n",
              "      <td>0</td>\n",
              "      <td>2</td>\n",
              "      <td>72</td>\n",
              "    </tr>\n",
              "    <tr>\n",
              "      <th>3</th>\n",
              "      <td>0</td>\n",
              "      <td>0</td>\n",
              "      <td>3</td>\n",
              "      <td>59</td>\n",
              "    </tr>\n",
              "    <tr>\n",
              "      <th>4</th>\n",
              "      <td>0</td>\n",
              "      <td>0</td>\n",
              "      <td>4</td>\n",
              "      <td>43</td>\n",
              "    </tr>\n",
              "    <tr>\n",
              "      <th>5</th>\n",
              "      <td>0</td>\n",
              "      <td>0</td>\n",
              "      <td>5</td>\n",
              "      <td>56</td>\n",
              "    </tr>\n",
              "    <tr>\n",
              "      <th>6</th>\n",
              "      <td>0</td>\n",
              "      <td>0</td>\n",
              "      <td>6</td>\n",
              "      <td>48</td>\n",
              "    </tr>\n",
              "    <tr>\n",
              "      <th>7</th>\n",
              "      <td>0</td>\n",
              "      <td>0</td>\n",
              "      <td>7</td>\n",
              "      <td>21</td>\n",
              "    </tr>\n",
              "    <tr>\n",
              "      <th>8</th>\n",
              "      <td>0</td>\n",
              "      <td>1</td>\n",
              "      <td>0</td>\n",
              "      <td>15</td>\n",
              "    </tr>\n",
              "    <tr>\n",
              "      <th>9</th>\n",
              "      <td>0</td>\n",
              "      <td>1</td>\n",
              "      <td>1</td>\n",
              "      <td>38</td>\n",
              "    </tr>\n",
              "    <tr>\n",
              "      <th>10</th>\n",
              "      <td>0</td>\n",
              "      <td>1</td>\n",
              "      <td>2</td>\n",
              "      <td>48</td>\n",
              "    </tr>\n",
              "    <tr>\n",
              "      <th>11</th>\n",
              "      <td>0</td>\n",
              "      <td>1</td>\n",
              "      <td>3</td>\n",
              "      <td>61</td>\n",
              "    </tr>\n",
              "    <tr>\n",
              "      <th>12</th>\n",
              "      <td>0</td>\n",
              "      <td>1</td>\n",
              "      <td>4</td>\n",
              "      <td>29</td>\n",
              "    </tr>\n",
              "    <tr>\n",
              "      <th>13</th>\n",
              "      <td>0</td>\n",
              "      <td>1</td>\n",
              "      <td>5</td>\n",
              "      <td>62</td>\n",
              "    </tr>\n",
              "    <tr>\n",
              "      <th>14</th>\n",
              "      <td>0</td>\n",
              "      <td>1</td>\n",
              "      <td>6</td>\n",
              "      <td>44</td>\n",
              "    </tr>\n",
              "    <tr>\n",
              "      <th>15</th>\n",
              "      <td>0</td>\n",
              "      <td>1</td>\n",
              "      <td>7</td>\n",
              "      <td>36</td>\n",
              "    </tr>\n",
              "    <tr>\n",
              "      <th>16</th>\n",
              "      <td>0</td>\n",
              "      <td>2</td>\n",
              "      <td>0</td>\n",
              "      <td>10</td>\n",
              "    </tr>\n",
              "    <tr>\n",
              "      <th>17</th>\n",
              "      <td>0</td>\n",
              "      <td>2</td>\n",
              "      <td>1</td>\n",
              "      <td>43</td>\n",
              "    </tr>\n",
              "    <tr>\n",
              "      <th>18</th>\n",
              "      <td>0</td>\n",
              "      <td>2</td>\n",
              "      <td>2</td>\n",
              "      <td>91</td>\n",
              "    </tr>\n",
              "    <tr>\n",
              "      <th>19</th>\n",
              "      <td>0</td>\n",
              "      <td>2</td>\n",
              "      <td>3</td>\n",
              "      <td>66</td>\n",
              "    </tr>\n",
              "    <tr>\n",
              "      <th>20</th>\n",
              "      <td>0</td>\n",
              "      <td>2</td>\n",
              "      <td>4</td>\n",
              "      <td>57</td>\n",
              "    </tr>\n",
              "    <tr>\n",
              "      <th>21</th>\n",
              "      <td>0</td>\n",
              "      <td>2</td>\n",
              "      <td>5</td>\n",
              "      <td>71</td>\n",
              "    </tr>\n",
              "    <tr>\n",
              "      <th>22</th>\n",
              "      <td>0</td>\n",
              "      <td>2</td>\n",
              "      <td>6</td>\n",
              "      <td>65</td>\n",
              "    </tr>\n",
              "    <tr>\n",
              "      <th>23</th>\n",
              "      <td>0</td>\n",
              "      <td>2</td>\n",
              "      <td>7</td>\n",
              "      <td>55</td>\n",
              "    </tr>\n",
              "    <tr>\n",
              "      <th>24</th>\n",
              "      <td>0</td>\n",
              "      <td>3</td>\n",
              "      <td>0</td>\n",
              "      <td>9</td>\n",
              "    </tr>\n",
              "    <tr>\n",
              "      <th>25</th>\n",
              "      <td>0</td>\n",
              "      <td>3</td>\n",
              "      <td>1</td>\n",
              "      <td>63</td>\n",
              "    </tr>\n",
              "    <tr>\n",
              "      <th>26</th>\n",
              "      <td>0</td>\n",
              "      <td>3</td>\n",
              "      <td>2</td>\n",
              "      <td>65</td>\n",
              "    </tr>\n",
              "    <tr>\n",
              "      <th>27</th>\n",
              "      <td>0</td>\n",
              "      <td>3</td>\n",
              "      <td>3</td>\n",
              "      <td>76</td>\n",
              "    </tr>\n",
              "    <tr>\n",
              "      <th>28</th>\n",
              "      <td>0</td>\n",
              "      <td>3</td>\n",
              "      <td>4</td>\n",
              "      <td>33</td>\n",
              "    </tr>\n",
              "    <tr>\n",
              "      <th>29</th>\n",
              "      <td>0</td>\n",
              "      <td>3</td>\n",
              "      <td>5</td>\n",
              "      <td>54</td>\n",
              "    </tr>\n",
              "    <tr>\n",
              "      <th>...</th>\n",
              "      <td>...</td>\n",
              "      <td>...</td>\n",
              "      <td>...</td>\n",
              "      <td>...</td>\n",
              "    </tr>\n",
              "    <tr>\n",
              "      <th>599</th>\n",
              "      <td>9</td>\n",
              "      <td>3</td>\n",
              "      <td>2</td>\n",
              "      <td>157</td>\n",
              "    </tr>\n",
              "    <tr>\n",
              "      <th>600</th>\n",
              "      <td>9</td>\n",
              "      <td>3</td>\n",
              "      <td>3</td>\n",
              "      <td>91</td>\n",
              "    </tr>\n",
              "    <tr>\n",
              "      <th>601</th>\n",
              "      <td>9</td>\n",
              "      <td>3</td>\n",
              "      <td>4</td>\n",
              "      <td>72</td>\n",
              "    </tr>\n",
              "    <tr>\n",
              "      <th>602</th>\n",
              "      <td>9</td>\n",
              "      <td>3</td>\n",
              "      <td>5</td>\n",
              "      <td>107</td>\n",
              "    </tr>\n",
              "    <tr>\n",
              "      <th>603</th>\n",
              "      <td>9</td>\n",
              "      <td>3</td>\n",
              "      <td>6</td>\n",
              "      <td>82</td>\n",
              "    </tr>\n",
              "    <tr>\n",
              "      <th>604</th>\n",
              "      <td>9</td>\n",
              "      <td>3</td>\n",
              "      <td>7</td>\n",
              "      <td>67</td>\n",
              "    </tr>\n",
              "    <tr>\n",
              "      <th>605</th>\n",
              "      <td>9</td>\n",
              "      <td>4</td>\n",
              "      <td>0</td>\n",
              "      <td>18</td>\n",
              "    </tr>\n",
              "    <tr>\n",
              "      <th>606</th>\n",
              "      <td>9</td>\n",
              "      <td>4</td>\n",
              "      <td>1</td>\n",
              "      <td>71</td>\n",
              "    </tr>\n",
              "    <tr>\n",
              "      <th>607</th>\n",
              "      <td>9</td>\n",
              "      <td>4</td>\n",
              "      <td>2</td>\n",
              "      <td>124</td>\n",
              "    </tr>\n",
              "    <tr>\n",
              "      <th>608</th>\n",
              "      <td>9</td>\n",
              "      <td>4</td>\n",
              "      <td>3</td>\n",
              "      <td>86</td>\n",
              "    </tr>\n",
              "    <tr>\n",
              "      <th>609</th>\n",
              "      <td>9</td>\n",
              "      <td>4</td>\n",
              "      <td>4</td>\n",
              "      <td>69</td>\n",
              "    </tr>\n",
              "    <tr>\n",
              "      <th>610</th>\n",
              "      <td>9</td>\n",
              "      <td>4</td>\n",
              "      <td>5</td>\n",
              "      <td>93</td>\n",
              "    </tr>\n",
              "    <tr>\n",
              "      <th>611</th>\n",
              "      <td>9</td>\n",
              "      <td>4</td>\n",
              "      <td>6</td>\n",
              "      <td>72</td>\n",
              "    </tr>\n",
              "    <tr>\n",
              "      <th>612</th>\n",
              "      <td>9</td>\n",
              "      <td>4</td>\n",
              "      <td>7</td>\n",
              "      <td>59</td>\n",
              "    </tr>\n",
              "    <tr>\n",
              "      <th>613</th>\n",
              "      <td>9</td>\n",
              "      <td>5</td>\n",
              "      <td>0</td>\n",
              "      <td>27</td>\n",
              "    </tr>\n",
              "    <tr>\n",
              "      <th>614</th>\n",
              "      <td>9</td>\n",
              "      <td>5</td>\n",
              "      <td>1</td>\n",
              "      <td>118</td>\n",
              "    </tr>\n",
              "    <tr>\n",
              "      <th>615</th>\n",
              "      <td>9</td>\n",
              "      <td>5</td>\n",
              "      <td>2</td>\n",
              "      <td>113</td>\n",
              "    </tr>\n",
              "    <tr>\n",
              "      <th>616</th>\n",
              "      <td>9</td>\n",
              "      <td>5</td>\n",
              "      <td>3</td>\n",
              "      <td>102</td>\n",
              "    </tr>\n",
              "    <tr>\n",
              "      <th>617</th>\n",
              "      <td>9</td>\n",
              "      <td>5</td>\n",
              "      <td>4</td>\n",
              "      <td>72</td>\n",
              "    </tr>\n",
              "    <tr>\n",
              "      <th>618</th>\n",
              "      <td>9</td>\n",
              "      <td>5</td>\n",
              "      <td>5</td>\n",
              "      <td>84</td>\n",
              "    </tr>\n",
              "    <tr>\n",
              "      <th>619</th>\n",
              "      <td>9</td>\n",
              "      <td>5</td>\n",
              "      <td>6</td>\n",
              "      <td>65</td>\n",
              "    </tr>\n",
              "    <tr>\n",
              "      <th>620</th>\n",
              "      <td>9</td>\n",
              "      <td>5</td>\n",
              "      <td>7</td>\n",
              "      <td>61</td>\n",
              "    </tr>\n",
              "    <tr>\n",
              "      <th>621</th>\n",
              "      <td>9</td>\n",
              "      <td>6</td>\n",
              "      <td>0</td>\n",
              "      <td>21</td>\n",
              "    </tr>\n",
              "    <tr>\n",
              "      <th>622</th>\n",
              "      <td>9</td>\n",
              "      <td>6</td>\n",
              "      <td>1</td>\n",
              "      <td>77</td>\n",
              "    </tr>\n",
              "    <tr>\n",
              "      <th>623</th>\n",
              "      <td>9</td>\n",
              "      <td>6</td>\n",
              "      <td>2</td>\n",
              "      <td>79</td>\n",
              "    </tr>\n",
              "    <tr>\n",
              "      <th>624</th>\n",
              "      <td>9</td>\n",
              "      <td>6</td>\n",
              "      <td>3</td>\n",
              "      <td>71</td>\n",
              "    </tr>\n",
              "    <tr>\n",
              "      <th>625</th>\n",
              "      <td>9</td>\n",
              "      <td>6</td>\n",
              "      <td>4</td>\n",
              "      <td>60</td>\n",
              "    </tr>\n",
              "    <tr>\n",
              "      <th>626</th>\n",
              "      <td>9</td>\n",
              "      <td>6</td>\n",
              "      <td>5</td>\n",
              "      <td>57</td>\n",
              "    </tr>\n",
              "    <tr>\n",
              "      <th>627</th>\n",
              "      <td>9</td>\n",
              "      <td>6</td>\n",
              "      <td>6</td>\n",
              "      <td>43</td>\n",
              "    </tr>\n",
              "    <tr>\n",
              "      <th>628</th>\n",
              "      <td>9</td>\n",
              "      <td>6</td>\n",
              "      <td>7</td>\n",
              "      <td>37</td>\n",
              "    </tr>\n",
              "  </tbody>\n",
              "</table>\n",
              "<p>629 rows × 4 columns</p>\n",
              "</div>"
            ],
            "text/plain": [
              "     0  0.1  0.2   13\n",
              "0    0    0    0   13\n",
              "1    0    0    1   56\n",
              "2    0    0    2   72\n",
              "3    0    0    3   59\n",
              "4    0    0    4   43\n",
              "5    0    0    5   56\n",
              "6    0    0    6   48\n",
              "7    0    0    7   21\n",
              "8    0    1    0   15\n",
              "9    0    1    1   38\n",
              "10   0    1    2   48\n",
              "11   0    1    3   61\n",
              "12   0    1    4   29\n",
              "13   0    1    5   62\n",
              "14   0    1    6   44\n",
              "15   0    1    7   36\n",
              "16   0    2    0   10\n",
              "17   0    2    1   43\n",
              "18   0    2    2   91\n",
              "19   0    2    3   66\n",
              "20   0    2    4   57\n",
              "21   0    2    5   71\n",
              "22   0    2    6   65\n",
              "23   0    2    7   55\n",
              "24   0    3    0    9\n",
              "25   0    3    1   63\n",
              "26   0    3    2   65\n",
              "27   0    3    3   76\n",
              "28   0    3    4   33\n",
              "29   0    3    5   54\n",
              "..  ..  ...  ...  ...\n",
              "599  9    3    2  157\n",
              "600  9    3    3   91\n",
              "601  9    3    4   72\n",
              "602  9    3    5  107\n",
              "603  9    3    6   82\n",
              "604  9    3    7   67\n",
              "605  9    4    0   18\n",
              "606  9    4    1   71\n",
              "607  9    4    2  124\n",
              "608  9    4    3   86\n",
              "609  9    4    4   69\n",
              "610  9    4    5   93\n",
              "611  9    4    6   72\n",
              "612  9    4    7   59\n",
              "613  9    5    0   27\n",
              "614  9    5    1  118\n",
              "615  9    5    2  113\n",
              "616  9    5    3  102\n",
              "617  9    5    4   72\n",
              "618  9    5    5   84\n",
              "619  9    5    6   65\n",
              "620  9    5    7   61\n",
              "621  9    6    0   21\n",
              "622  9    6    1   77\n",
              "623  9    6    2   79\n",
              "624  9    6    3   71\n",
              "625  9    6    4   60\n",
              "626  9    6    5   57\n",
              "627  9    6    6   43\n",
              "628  9    6    7   37\n",
              "\n",
              "[629 rows x 4 columns]"
            ]
          },
          "metadata": {
            "tags": []
          },
          "execution_count": 5
        }
      ]
    },
    {
      "cell_type": "markdown",
      "metadata": {
        "id": "tLIH9Cz3Jjbt",
        "colab_type": "text"
      },
      "source": [
        "##Make Dataset"
      ]
    },
    {
      "cell_type": "code",
      "metadata": {
        "id": "GPeeFD4M3Bwo",
        "colab_type": "code",
        "colab": {
          "base_uri": "https://localhost:8080/",
          "height": 34
        },
        "outputId": "7153292b-f11e-4991-f9ca-540b15417bdf"
      },
      "source": [
        "len(rides)\n",
        "rides.shape"
      ],
      "execution_count": 6,
      "outputs": [
        {
          "output_type": "execute_result",
          "data": {
            "text/plain": [
              "(629, 4)"
            ]
          },
          "metadata": {
            "tags": []
          },
          "execution_count": 6
        }
      ]
    },
    {
      "cell_type": "code",
      "metadata": {
        "id": "BWZtpXwIys1W",
        "colab_type": "code",
        "colab": {}
      },
      "source": [
        "# rides.drop(['XYZ','X1','X2','X3','X4'])"
      ],
      "execution_count": 0,
      "outputs": []
    },
    {
      "cell_type": "code",
      "metadata": {
        "id": "5YGZlBQ49TBc",
        "colab_type": "code",
        "colab": {
          "base_uri": "https://localhost:8080/",
          "height": 164
        },
        "outputId": "9250c18a-9412-4918-b449-1e4e9b94d88a"
      },
      "source": [
        "type(X[0][0])"
      ],
      "execution_count": 8,
      "outputs": [
        {
          "output_type": "error",
          "ename": "NameError",
          "evalue": "ignored",
          "traceback": [
            "\u001b[0;31m---------------------------------------------------------------------------\u001b[0m",
            "\u001b[0;31mNameError\u001b[0m                                 Traceback (most recent call last)",
            "\u001b[0;32m<ipython-input-8-2f62856078b9>\u001b[0m in \u001b[0;36m<module>\u001b[0;34m()\u001b[0m\n\u001b[0;32m----> 1\u001b[0;31m \u001b[0mtype\u001b[0m\u001b[0;34m(\u001b[0m\u001b[0mX\u001b[0m\u001b[0;34m[\u001b[0m\u001b[0;36m0\u001b[0m\u001b[0;34m]\u001b[0m\u001b[0;34m[\u001b[0m\u001b[0;36m0\u001b[0m\u001b[0;34m]\u001b[0m\u001b[0;34m)\u001b[0m\u001b[0;34m\u001b[0m\u001b[0;34m\u001b[0m\u001b[0m\n\u001b[0m",
            "\u001b[0;31mNameError\u001b[0m: name 'X' is not defined"
          ]
        }
      ]
    },
    {
      "cell_type": "code",
      "metadata": {
        "id": "wXpn8xoI3UWc",
        "colab_type": "code",
        "colab": {
          "base_uri": "https://localhost:8080/",
          "height": 136
        },
        "outputId": "8cffbcf8-b70a-467c-81eb-8596650ed395"
      },
      "source": [
        "X = rides.values[:, 0:3]\n",
        "X = X.astype(np.int64)\n",
        "X"
      ],
      "execution_count": 9,
      "outputs": [
        {
          "output_type": "execute_result",
          "data": {
            "text/plain": [
              "array([[0, 0, 0],\n",
              "       [0, 0, 1],\n",
              "       [0, 0, 2],\n",
              "       ...,\n",
              "       [9, 6, 5],\n",
              "       [9, 6, 6],\n",
              "       [9, 6, 7]])"
            ]
          },
          "metadata": {
            "tags": []
          },
          "execution_count": 9
        }
      ]
    },
    {
      "cell_type": "code",
      "metadata": {
        "id": "HBTVVrqI3Z9p",
        "colab_type": "code",
        "colab": {
          "base_uri": "https://localhost:8080/",
          "height": 850
        },
        "outputId": "3a823dcc-4e17-4cee-fd9c-b2f6b5162397"
      },
      "source": [
        "Y = rides.values[:,3]\n",
        "Y = Y.astype(np.int64)\n",
        "Y"
      ],
      "execution_count": 10,
      "outputs": [
        {
          "output_type": "execute_result",
          "data": {
            "text/plain": [
              "array([ 13,  56,  72,  59,  43,  56,  48,  21,  15,  38,  48,  61,  29,\n",
              "        62,  44,  36,  10,  43,  91,  66,  57,  71,  65,  55,   9,  63,\n",
              "        65,  76,  33,  54,  73,  44,  12,  50,  49,  54,  40,  46,  74,\n",
              "        75,  17,  59,  63,  63,  55,  55,  48,  48,  24,  54,  67,  72,\n",
              "        63,  58,  50,  46,  10,  11,  46,  70,  51,  34,  28,  29,  34,\n",
              "        42,   5,  47,  77,  40,  38,  31,  27,  35,  68,   7,  29,  81,\n",
              "        62,  31,  39,  28,  16,  77,   5,  56,  74,  55,  27,  47,  41,\n",
              "        28,  42,  18,  82,  99,  71,  62,  62,  55,  66,  47,  14, 104,\n",
              "       101,  84,  53,  49,  41,  37,  52,  21,  67,  61,  65,  42,  35,\n",
              "        26,  33,  27,  14,   1,  36,   1,   3,   1,   1,  46,   1,   1,\n",
              "        63,  38,   2,   1,  53,  54,   3,   1,   2,   1,  24,  10,  37,\n",
              "        69,  82,  53,  49,  69,  41,  10,  48,  61,  73,  39,  62,  59,\n",
              "        41,  16,  40,  59,  76,  55,  53,  72,  63,  23,  72,  71,  61,\n",
              "        61,  61,  59,  47,  18,  44,  94,  57,  62,  73,  52,  36,  12,\n",
              "        46,  66,  68,  35,  38,  40,  30,  13,  33,  53,  44,  33,  46,\n",
              "        52,  18,   9,  30,  50,  42,  32,  42,  47,  37,  11,  38,  39,\n",
              "        62,  35,  44,  53,  33,  13,  68,  78,  72,  40,  65,  65,  81,\n",
              "        17,  69,  65,  88,  67,  79,  70,  51,  18,  64,  81,  82,  59,\n",
              "        84,  66,  58,  26,  73, 111,  76,  57,  62,  65,  44,  18,  46,\n",
              "        79,  83,  51,  60,  77,  41,  11,  36,  68,  56,  43,  55,  43,\n",
              "        20,  17,  65,  67,  62,  39,  45,  46,  26,  12,  48,  74,  71,\n",
              "        60,  56,  57,  47,  25,  75,  85,  73,  54,  54,  54,  39,  26,\n",
              "        61,  61,  69,  49,  60,  52,  48,  16,  53, 100,  85,  59,  54,\n",
              "        53,  29,  15,  44,  80,  91,  54,  79,  49,  44,  21,  63, 111,\n",
              "       118,  77, 109,  68,  45,  21,  78, 113, 110,  57,  79,  71,  46,\n",
              "        23,  78, 121, 123,  76, 102,  91,  78,  24,  93,  98,  92,  52,\n",
              "        61,  74,  51,  23,  72,  92,  55,  55,  48,  54,  48,  20,  75,\n",
              "       120, 100,  77,  68,  84,  41,  10,  58,  84, 108,  54,  74,  72,\n",
              "        34,  10,  48,  80,  96,  57,  75,  80,  45,  17,  63,  82, 103,\n",
              "        54,  64,  72,  45,  22,  59,  88,  89,  55, 100,  93,  66,  28,\n",
              "        91, 127, 130,  87,  93,  95,  81,  22,  81,  93, 129, 116,  99,\n",
              "        92,  76,  28, 101, 131, 136,  88, 125,  87,  55,  22,  77, 119,\n",
              "       120,  74, 102, 102,  71,  25,  74, 122, 149,  90, 134, 109,  69,\n",
              "        14,  67,  89, 116,  61,  98,  99,  80,  21,  69, 121, 103,  58,\n",
              "       120, 136,  69,  27, 101, 112, 119,  80,  88,  83,  74,  17,  78,\n",
              "        94,  84,  86,  77,  84,  63,  19, 103, 112, 114,  63,  97,  86,\n",
              "        57,  23,  72,  98, 108,  63, 105,  90,  48,  23,  91, 106, 119,\n",
              "        68, 114,  84,  59,  33, 122, 131, 128,  82, 125, 110,  86,  31,\n",
              "       112, 151, 141, 109, 136, 147,  67,  42, 155, 133, 159, 100, 128,\n",
              "       128,  91,  23,  98,  95, 112,  89,  69,  83,  62,  24,  92, 191,\n",
              "       106,  52,  88,  86,  38,  24,  66, 121,  85,  58,  85,  80,  49,\n",
              "        17,  53, 121,  90,  48,  91,  72,  38,  19,  60, 151,  99,  64,\n",
              "        86,  90,  49,  16,  71, 128,  75,  68, 104,  98,  67,  40, 106,\n",
              "       121,  99,  84,  93,  78,  55,  28,  77, 128, 120,  89,  68,  66,\n",
              "        63,  19,  84, 117,  83,  49,  54,  63,  31,  27,  87, 135,  99,\n",
              "        54,  92,  92,  40,  33,  93, 139, 130,  73,  81,  74,  45,  19,\n",
              "        96, 157,  91,  72, 107,  82,  67,  18,  71, 124,  86,  69,  93,\n",
              "        72,  59,  27, 118, 113, 102,  72,  84,  65,  61,  21,  77,  79,\n",
              "        71,  60,  57,  43,  37])"
            ]
          },
          "metadata": {
            "tags": []
          },
          "execution_count": 10
        }
      ]
    },
    {
      "cell_type": "markdown",
      "metadata": {
        "id": "c2j6YcSJYNZy",
        "colab_type": "text"
      },
      "source": [
        "##Model"
      ]
    },
    {
      "cell_type": "markdown",
      "metadata": {
        "id": "PyjET30rYUFR",
        "colab_type": "text"
      },
      "source": [
        "Using a Decision Tree Regressor."
      ]
    },
    {
      "cell_type": "code",
      "metadata": {
        "id": "3npxs2Qrjb17",
        "colab_type": "code",
        "colab": {
          "base_uri": "https://localhost:8080/",
          "height": 102
        },
        "outputId": "9c72ed5b-5920-48c1-ea75-4f430af975b9"
      },
      "source": [
        "from sklearn.tree import DecisionTreeRegressor  \n",
        "  \n",
        "# create a regressor object \n",
        "regressor = DecisionTreeRegressor(random_state = 0)  \n",
        "  \n",
        "# fit the regressor with X and Y data \n",
        "regressor.fit(X, Y) "
      ],
      "execution_count": 11,
      "outputs": [
        {
          "output_type": "execute_result",
          "data": {
            "text/plain": [
              "DecisionTreeRegressor(criterion='mse', max_depth=None, max_features=None,\n",
              "                      max_leaf_nodes=None, min_impurity_decrease=0.0,\n",
              "                      min_impurity_split=None, min_samples_leaf=1,\n",
              "                      min_samples_split=2, min_weight_fraction_leaf=0.0,\n",
              "                      presort=False, random_state=0, splitter='best')"
            ]
          },
          "metadata": {
            "tags": []
          },
          "execution_count": 11
        }
      ]
    },
    {
      "cell_type": "code",
      "metadata": {
        "id": "1J05rJ0njbzu",
        "colab_type": "code",
        "colab": {
          "base_uri": "https://localhost:8080/",
          "height": 51
        },
        "outputId": "071774b6-5a2b-455b-eff1-09dc43363fe5"
      },
      "source": [
        "k = np.array([[0,0,0]]).astype(int)\n",
        "y_pred = regressor.predict(k) \n",
        "  \n",
        "# print the predicted price \n",
        "print(\"Predicted price: % d\\n\"% y_pred)  "
      ],
      "execution_count": 13,
      "outputs": [
        {
          "output_type": "stream",
          "text": [
            "Predicted price:  13\n",
            "\n"
          ],
          "name": "stdout"
        }
      ]
    },
    {
      "cell_type": "code",
      "metadata": {
        "id": "GvWAoCF0jbx2",
        "colab_type": "code",
        "colab": {
          "base_uri": "https://localhost:8080/",
          "height": 34
        },
        "outputId": "70f6aa62-b19c-4be2-89bc-1fc96ca0c36e"
      },
      "source": [
        "regressor.score(X,Y)"
      ],
      "execution_count": 14,
      "outputs": [
        {
          "output_type": "execute_result",
          "data": {
            "text/plain": [
              "1.0"
            ]
          },
          "metadata": {
            "tags": []
          },
          "execution_count": 14
        }
      ]
    },
    {
      "cell_type": "code",
      "metadata": {
        "id": "pPDrcpoWjbuF",
        "colab_type": "code",
        "colab": {}
      },
      "source": [
        ""
      ],
      "execution_count": 0,
      "outputs": []
    },
    {
      "cell_type": "code",
      "metadata": {
        "id": "2CHOystQLteo",
        "colab_type": "code",
        "colab": {}
      },
      "source": [
        "output = []\n",
        "\n",
        "f = open( 'data/sadata.csv', 'r' ) #open the file in read universal mode\n",
        "for line in f:\n",
        "    cells = line.split( \",\" )\n",
        "    if (cells[2]=='0\\n'):\n",
        "      cells[2] = '0'\n",
        "    elif (cells[2]=='1\\n'):\n",
        "      cells[2] = '1'\n",
        "    elif (cells[2]=='2\\n'):\n",
        "      cells[2]= '2'\n",
        "    elif (cells[2]=='3\\n'):\n",
        "      cells[2] = '3'\n",
        "    elif (cells[2]=='4\\n'):\n",
        "      cells[2]= '4'\n",
        "    elif (cells[2]=='5\\n'):\n",
        "      cells[2] = '5'\n",
        "  \n",
        "    output.append( ( cells[ 0 ], cells[ 1], cells[2])) #since we want the first, second and third column\n",
        "\n",
        "f.close()\n"
      ],
      "execution_count": 0,
      "outputs": []
    },
    {
      "cell_type": "code",
      "metadata": {
        "id": "PvOHPWMkyL0Q",
        "colab_type": "code",
        "colab": {}
      },
      "source": [
        "output"
      ],
      "execution_count": 0,
      "outputs": []
    },
    {
      "cell_type": "code",
      "metadata": {
        "id": "dIICt8GENBkY",
        "colab_type": "code",
        "colab": {}
      },
      "source": [
        "# output.remove(('from_month','from_day','from_time\\n'))"
      ],
      "execution_count": 0,
      "outputs": []
    },
    {
      "cell_type": "code",
      "metadata": {
        "id": "2LhwGSY4Snrj",
        "colab_type": "code",
        "colab": {}
      },
      "source": [
        "\n",
        "      \n",
        "      "
      ],
      "execution_count": 0,
      "outputs": []
    }
  ]
}